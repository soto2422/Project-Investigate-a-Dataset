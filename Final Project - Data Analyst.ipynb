{
 "cells": [
  {
   "cell_type": "markdown",
   "metadata": {},
   "source": [
    "# Project: Investigate a Dataset  - No Show Appointments "
   ]
  },
  {
   "cell_type": "markdown",
   "metadata": {},
   "source": [
    "Questions posed:\n",
    "1. Average/mean by Age, Hypertensions, Diabetes, Alcoholism and Handicap. Identify the diagnoses with the highest reason for an appointment.\n",
    "2. How many patients were male vs female\n",
    "3. How many patients were no show vs show and the overal percentage\n",
    "4. Compare female/male appointments and female/male no shows.\n",
    "4. Neighborhoods listed from highest number of patients to lowest number of patients\n",
    "\n",
    "Coded to perform analysis: Used Jupyter notebook\n",
    "\n",
    "Websites, forums, etc. used for reference:\n",
    "• Numpy and Panda Cheat Sheet\n",
    "• Github\n",
    "• Udacity Forums\n",
    "• Python and Panda websites\n",
    "• Stack Overflow\n",
    "• GOOGLE (OMG – this was better than sliced bread)\n",
    "• My notes\n",
    "• Reviewers comments\n",
    "\n",
    "My comments:\n",
    "The intro to programming was very interesting to me. Having zero programming knowledge, I decided to choose the Data Analyst path, since I like root cause analysis, but this was more than what I expected. It was very hard for me to digest all the material. This was a bite-size introduction that was very hard for me. Having been exposed to NumPy Arrays and Pandas has made me think a bit more about my next step into programming. I did my best with the last project and used the resources that were available to me. I enjoyed getting to know what programming is about!!!"
   ]
  },
  {
   "cell_type": "markdown",
   "metadata": {},
   "source": [
    "# Introduction"
   ]
  },
  {
   "cell_type": "raw",
   "metadata": {},
   "source": [
    "This dataset collects information from 100k medical appointments in Brazil and is focused on the question of whether or not patients show up for their appointment.\n",
    "\n",
    "‘Gender’ tells us if patient is female or male\n",
    "\n",
    "‘Neighborhood’ indicates the location of the hospital.\n",
    "\n",
    "‘Scholarship’ indicates whether or not the patient is enrolled in Brasilian welfare program Bolsa Família."
   ]
  },
  {
   "cell_type": "code",
   "execution_count": 16,
   "metadata": {},
   "outputs": [],
   "source": [
    "import numpy as np\n",
    "import pandas as pd\n",
    "import matplotlib.pyplot as plt\n",
    "import seaborn as sns "
   ]
  },
  {
   "cell_type": "code",
   "execution_count": 17,
   "metadata": {},
   "outputs": [],
   "source": [
    "import unicodecsv\n",
    "\n",
    "def read_csv(filename):\n",
    "    with open(filename, 'rb') as f:\n",
    "        reader = unicodecsv.DictReader(f)\n",
    "        return list(reader)\n",
    "\n",
    "no_show = read_csv('no_show_appointments.csv')"
   ]
  },
  {
   "cell_type": "code",
   "execution_count": 18,
   "metadata": {},
   "outputs": [
    {
     "data": {
      "text/plain": [
       "110527"
      ]
     },
     "execution_count": 18,
     "metadata": {},
     "output_type": "execute_result"
    }
   ],
   "source": [
    "##verifying that the csv file is reachable\n",
    "len(no_show)"
   ]
  },
  {
   "cell_type": "markdown",
   "metadata": {},
   "source": [
    "# Data Wrangling"
   ]
  },
  {
   "cell_type": "markdown",
   "metadata": {},
   "source": [
    "### Importing the Data"
   ]
  },
  {
   "cell_type": "code",
   "execution_count": 19,
   "metadata": {},
   "outputs": [],
   "source": [
    "df = pd.read_csv('no_show_appointments.csv')"
   ]
  },
  {
   "cell_type": "markdown",
   "metadata": {},
   "source": [
    "### Data Summary"
   ]
  },
  {
   "cell_type": "code",
   "execution_count": 20,
   "metadata": {
    "scrolled": true
   },
   "outputs": [
    {
     "data": {
      "text/html": [
       "<div>\n",
       "<style scoped>\n",
       "    .dataframe tbody tr th:only-of-type {\n",
       "        vertical-align: middle;\n",
       "    }\n",
       "\n",
       "    .dataframe tbody tr th {\n",
       "        vertical-align: top;\n",
       "    }\n",
       "\n",
       "    .dataframe thead th {\n",
       "        text-align: right;\n",
       "    }\n",
       "</style>\n",
       "<table border=\"1\" class=\"dataframe\">\n",
       "  <thead>\n",
       "    <tr style=\"text-align: right;\">\n",
       "      <th></th>\n",
       "      <th>PatientId</th>\n",
       "      <th>AppointmentID</th>\n",
       "      <th>Age</th>\n",
       "      <th>Scholarship</th>\n",
       "      <th>Hipertension</th>\n",
       "      <th>Diabetes</th>\n",
       "      <th>Alcoholism</th>\n",
       "      <th>Handcap</th>\n",
       "      <th>SMS_received</th>\n",
       "    </tr>\n",
       "  </thead>\n",
       "  <tbody>\n",
       "    <tr>\n",
       "      <th>count</th>\n",
       "      <td>1.105270e+05</td>\n",
       "      <td>1.105270e+05</td>\n",
       "      <td>110527.000000</td>\n",
       "      <td>110527.000000</td>\n",
       "      <td>110527.000000</td>\n",
       "      <td>110527.000000</td>\n",
       "      <td>110527.000000</td>\n",
       "      <td>110527.000000</td>\n",
       "      <td>110527.000000</td>\n",
       "    </tr>\n",
       "    <tr>\n",
       "      <th>mean</th>\n",
       "      <td>1.474961e+14</td>\n",
       "      <td>5.675305e+06</td>\n",
       "      <td>37.088874</td>\n",
       "      <td>0.098266</td>\n",
       "      <td>0.197246</td>\n",
       "      <td>0.071865</td>\n",
       "      <td>0.030400</td>\n",
       "      <td>0.022248</td>\n",
       "      <td>0.321026</td>\n",
       "    </tr>\n",
       "    <tr>\n",
       "      <th>std</th>\n",
       "      <td>2.560943e+14</td>\n",
       "      <td>7.129575e+04</td>\n",
       "      <td>23.110205</td>\n",
       "      <td>0.297675</td>\n",
       "      <td>0.397921</td>\n",
       "      <td>0.258265</td>\n",
       "      <td>0.171686</td>\n",
       "      <td>0.161543</td>\n",
       "      <td>0.466873</td>\n",
       "    </tr>\n",
       "    <tr>\n",
       "      <th>min</th>\n",
       "      <td>3.920000e+04</td>\n",
       "      <td>5.030230e+06</td>\n",
       "      <td>-1.000000</td>\n",
       "      <td>0.000000</td>\n",
       "      <td>0.000000</td>\n",
       "      <td>0.000000</td>\n",
       "      <td>0.000000</td>\n",
       "      <td>0.000000</td>\n",
       "      <td>0.000000</td>\n",
       "    </tr>\n",
       "    <tr>\n",
       "      <th>25%</th>\n",
       "      <td>4.170000e+12</td>\n",
       "      <td>5.640286e+06</td>\n",
       "      <td>18.000000</td>\n",
       "      <td>0.000000</td>\n",
       "      <td>0.000000</td>\n",
       "      <td>0.000000</td>\n",
       "      <td>0.000000</td>\n",
       "      <td>0.000000</td>\n",
       "      <td>0.000000</td>\n",
       "    </tr>\n",
       "    <tr>\n",
       "      <th>50%</th>\n",
       "      <td>3.170000e+13</td>\n",
       "      <td>5.680573e+06</td>\n",
       "      <td>37.000000</td>\n",
       "      <td>0.000000</td>\n",
       "      <td>0.000000</td>\n",
       "      <td>0.000000</td>\n",
       "      <td>0.000000</td>\n",
       "      <td>0.000000</td>\n",
       "      <td>0.000000</td>\n",
       "    </tr>\n",
       "    <tr>\n",
       "      <th>75%</th>\n",
       "      <td>9.440000e+13</td>\n",
       "      <td>5.725524e+06</td>\n",
       "      <td>55.000000</td>\n",
       "      <td>0.000000</td>\n",
       "      <td>0.000000</td>\n",
       "      <td>0.000000</td>\n",
       "      <td>0.000000</td>\n",
       "      <td>0.000000</td>\n",
       "      <td>1.000000</td>\n",
       "    </tr>\n",
       "    <tr>\n",
       "      <th>max</th>\n",
       "      <td>1.000000e+15</td>\n",
       "      <td>5.790484e+06</td>\n",
       "      <td>115.000000</td>\n",
       "      <td>1.000000</td>\n",
       "      <td>1.000000</td>\n",
       "      <td>1.000000</td>\n",
       "      <td>1.000000</td>\n",
       "      <td>4.000000</td>\n",
       "      <td>1.000000</td>\n",
       "    </tr>\n",
       "  </tbody>\n",
       "</table>\n",
       "</div>"
      ],
      "text/plain": [
       "          PatientId  AppointmentID            Age    Scholarship  \\\n",
       "count  1.105270e+05   1.105270e+05  110527.000000  110527.000000   \n",
       "mean   1.474961e+14   5.675305e+06      37.088874       0.098266   \n",
       "std    2.560943e+14   7.129575e+04      23.110205       0.297675   \n",
       "min    3.920000e+04   5.030230e+06      -1.000000       0.000000   \n",
       "25%    4.170000e+12   5.640286e+06      18.000000       0.000000   \n",
       "50%    3.170000e+13   5.680573e+06      37.000000       0.000000   \n",
       "75%    9.440000e+13   5.725524e+06      55.000000       0.000000   \n",
       "max    1.000000e+15   5.790484e+06     115.000000       1.000000   \n",
       "\n",
       "        Hipertension       Diabetes     Alcoholism        Handcap  \\\n",
       "count  110527.000000  110527.000000  110527.000000  110527.000000   \n",
       "mean        0.197246       0.071865       0.030400       0.022248   \n",
       "std         0.397921       0.258265       0.171686       0.161543   \n",
       "min         0.000000       0.000000       0.000000       0.000000   \n",
       "25%         0.000000       0.000000       0.000000       0.000000   \n",
       "50%         0.000000       0.000000       0.000000       0.000000   \n",
       "75%         0.000000       0.000000       0.000000       0.000000   \n",
       "max         1.000000       1.000000       1.000000       4.000000   \n",
       "\n",
       "        SMS_received  \n",
       "count  110527.000000  \n",
       "mean        0.321026  \n",
       "std         0.466873  \n",
       "min         0.000000  \n",
       "25%         0.000000  \n",
       "50%         0.000000  \n",
       "75%         1.000000  \n",
       "max         1.000000  "
      ]
     },
     "execution_count": 20,
     "metadata": {},
     "output_type": "execute_result"
    }
   ],
   "source": [
    "##summary of the mean, std and IQR values. \n",
    "##I was interested in the mean for Age, Hipertensions, Diabetes, Alcoholism and Handicap.\n",
    "\n",
    "df.describe()"
   ]
  },
  {
   "cell_type": "code",
   "execution_count": 21,
   "metadata": {},
   "outputs": [
    {
     "data": {
      "text/html": [
       "<div>\n",
       "<style scoped>\n",
       "    .dataframe tbody tr th:only-of-type {\n",
       "        vertical-align: middle;\n",
       "    }\n",
       "\n",
       "    .dataframe tbody tr th {\n",
       "        vertical-align: top;\n",
       "    }\n",
       "\n",
       "    .dataframe thead th {\n",
       "        text-align: right;\n",
       "    }\n",
       "</style>\n",
       "<table border=\"1\" class=\"dataframe\">\n",
       "  <thead>\n",
       "    <tr style=\"text-align: right;\">\n",
       "      <th></th>\n",
       "      <th>PatientId</th>\n",
       "      <th>AppointmentID</th>\n",
       "      <th>Gender</th>\n",
       "      <th>ScheduledDay</th>\n",
       "      <th>AppointmentDay</th>\n",
       "      <th>Age</th>\n",
       "      <th>Neighborhood</th>\n",
       "      <th>Scholarship</th>\n",
       "      <th>Hipertension</th>\n",
       "      <th>Diabetes</th>\n",
       "      <th>Alcoholism</th>\n",
       "      <th>Handcap</th>\n",
       "      <th>SMS_received</th>\n",
       "      <th>No-show</th>\n",
       "    </tr>\n",
       "  </thead>\n",
       "  <tbody>\n",
       "    <tr>\n",
       "      <th>0</th>\n",
       "      <td>2.990000e+13</td>\n",
       "      <td>5642903</td>\n",
       "      <td>F</td>\n",
       "      <td>2016-04-29T18:38:08Z</td>\n",
       "      <td>2016-04-29T00:00:00Z</td>\n",
       "      <td>62</td>\n",
       "      <td>JARDIM DA PENHA</td>\n",
       "      <td>0</td>\n",
       "      <td>1</td>\n",
       "      <td>0</td>\n",
       "      <td>0</td>\n",
       "      <td>0</td>\n",
       "      <td>0</td>\n",
       "      <td>No</td>\n",
       "    </tr>\n",
       "    <tr>\n",
       "      <th>1</th>\n",
       "      <td>5.590000e+14</td>\n",
       "      <td>5642503</td>\n",
       "      <td>M</td>\n",
       "      <td>2016-04-29T16:08:27Z</td>\n",
       "      <td>2016-04-29T00:00:00Z</td>\n",
       "      <td>56</td>\n",
       "      <td>JARDIM DA PENHA</td>\n",
       "      <td>0</td>\n",
       "      <td>0</td>\n",
       "      <td>0</td>\n",
       "      <td>0</td>\n",
       "      <td>0</td>\n",
       "      <td>0</td>\n",
       "      <td>No</td>\n",
       "    </tr>\n",
       "    <tr>\n",
       "      <th>2</th>\n",
       "      <td>4.260000e+12</td>\n",
       "      <td>5642549</td>\n",
       "      <td>F</td>\n",
       "      <td>2016-04-29T16:19:04Z</td>\n",
       "      <td>2016-04-29T00:00:00Z</td>\n",
       "      <td>62</td>\n",
       "      <td>MATA DA PRAIA</td>\n",
       "      <td>0</td>\n",
       "      <td>0</td>\n",
       "      <td>0</td>\n",
       "      <td>0</td>\n",
       "      <td>0</td>\n",
       "      <td>0</td>\n",
       "      <td>No</td>\n",
       "    </tr>\n",
       "    <tr>\n",
       "      <th>3</th>\n",
       "      <td>8.680000e+11</td>\n",
       "      <td>5642828</td>\n",
       "      <td>F</td>\n",
       "      <td>2016-04-29T17:29:31Z</td>\n",
       "      <td>2016-04-29T00:00:00Z</td>\n",
       "      <td>8</td>\n",
       "      <td>PONTAL DE CAMBURI</td>\n",
       "      <td>0</td>\n",
       "      <td>0</td>\n",
       "      <td>0</td>\n",
       "      <td>0</td>\n",
       "      <td>0</td>\n",
       "      <td>0</td>\n",
       "      <td>No</td>\n",
       "    </tr>\n",
       "    <tr>\n",
       "      <th>4</th>\n",
       "      <td>8.840000e+12</td>\n",
       "      <td>5642494</td>\n",
       "      <td>F</td>\n",
       "      <td>2016-04-29T16:07:23Z</td>\n",
       "      <td>2016-04-29T00:00:00Z</td>\n",
       "      <td>56</td>\n",
       "      <td>JARDIM DA PENHA</td>\n",
       "      <td>0</td>\n",
       "      <td>1</td>\n",
       "      <td>1</td>\n",
       "      <td>0</td>\n",
       "      <td>0</td>\n",
       "      <td>0</td>\n",
       "      <td>No</td>\n",
       "    </tr>\n",
       "  </tbody>\n",
       "</table>\n",
       "</div>"
      ],
      "text/plain": [
       "      PatientId  AppointmentID Gender          ScheduledDay  \\\n",
       "0  2.990000e+13        5642903      F  2016-04-29T18:38:08Z   \n",
       "1  5.590000e+14        5642503      M  2016-04-29T16:08:27Z   \n",
       "2  4.260000e+12        5642549      F  2016-04-29T16:19:04Z   \n",
       "3  8.680000e+11        5642828      F  2016-04-29T17:29:31Z   \n",
       "4  8.840000e+12        5642494      F  2016-04-29T16:07:23Z   \n",
       "\n",
       "         AppointmentDay  Age       Neighborhood  Scholarship  Hipertension  \\\n",
       "0  2016-04-29T00:00:00Z   62    JARDIM DA PENHA            0             1   \n",
       "1  2016-04-29T00:00:00Z   56    JARDIM DA PENHA            0             0   \n",
       "2  2016-04-29T00:00:00Z   62      MATA DA PRAIA            0             0   \n",
       "3  2016-04-29T00:00:00Z    8  PONTAL DE CAMBURI            0             0   \n",
       "4  2016-04-29T00:00:00Z   56    JARDIM DA PENHA            0             1   \n",
       "\n",
       "   Diabetes  Alcoholism  Handcap  SMS_received No-show  \n",
       "0         0           0        0             0      No  \n",
       "1         0           0        0             0      No  \n",
       "2         0           0        0             0      No  \n",
       "3         0           0        0             0      No  \n",
       "4         1           0        0             0      No  "
      ]
     },
     "execution_count": 21,
     "metadata": {},
     "output_type": "execute_result"
    }
   ],
   "source": [
    "df.head()"
   ]
  },
  {
   "cell_type": "markdown",
   "metadata": {},
   "source": [
    "### Cleaning data by removing typos in the column headers"
   ]
  },
  {
   "cell_type": "code",
   "execution_count": 22,
   "metadata": {},
   "outputs": [
    {
     "name": "stdout",
     "output_type": "stream",
     "text": [
      "Index(['PatientId', 'AppointmentID', 'Gender', 'ScheduledDay',\n",
      "       'AppointmentDay', 'Age', 'Neighborhood', 'Scholarship', 'Hypertension',\n",
      "       'Diabetes', 'Alcoholism', 'Handicap', 'SMS_received', 'No_show'],\n",
      "      dtype='object')\n"
     ]
    }
   ],
   "source": [
    "df.rename(columns = {'Hipertension': 'Hypertension',\n",
    "                'Handcap': 'Handicap','No-show':'No_show'}, inplace = True)\n",
    "\n",
    "print(df.columns)"
   ]
  },
  {
   "cell_type": "markdown",
   "metadata": {},
   "source": [
    "### Checking for errors in data"
   ]
  },
  {
   "cell_type": "code",
   "execution_count": 23,
   "metadata": {},
   "outputs": [
    {
     "name": "stdout",
     "output_type": "stream",
     "text": [
      "Age: [-1, 0, 1, 2, 3, 4, 5, 6, 7, 8, 9, 10, 11, 12, 13, 14, 15, 16, 17, 18, 19, 20, 21, 22, 23, 24, 25, 26, 27, 28, 29, 30, 31, 32, 33, 34, 35, 36, 37, 38, 39, 40, 41, 42, 43, 44, 45, 46, 47, 48, 49, 50, 51, 52, 53, 54, 55, 56, 57, 58, 59, 60, 61, 62, 63, 64, 65, 66, 67, 68, 69, 70, 71, 72, 73, 74, 75, 76, 77, 78, 79, 80, 81, 82, 83, 84, 85, 86, 87, 88, 89, 90, 91, 92, 93, 94, 95, 96, 97, 98, 99, 100, 102, 115]\n",
      "Gender: ['F' 'M']\n",
      "Diabetes: [0 1]\n",
      "Alcoholism: [0 1]\n",
      "Hypertension: [1 0]\n",
      "Handicap: [0 1 2 3 4]\n",
      "Scholarship: [0 1]\n",
      "SMS_received: [0 1]\n",
      "No_show: ['No' 'Yes']\n"
     ]
    }
   ],
   "source": [
    "print('Age:',sorted(df.Age.unique()))\n",
    "print('Gender:',df.Gender.unique())\n",
    "print('Diabetes:',df.Diabetes.unique())\n",
    "print('Alcoholism:',df.Alcoholism.unique())\n",
    "print('Hypertension:',df.Hypertension.unique()) \n",
    "print('Handicap:',df.Handicap.unique()) \n",
    "print('Scholarship:',df.Scholarship.unique())\n",
    "print('SMS_received:',df.SMS_received.unique())\n",
    "print('No_show:',df.No_show.unique()) ##  ‘No’ if the patient showed up to their appointment, and ‘Yes’ if they did not show up."
   ]
  },
  {
   "cell_type": "markdown",
   "metadata": {},
   "source": [
    "### Remove age outliers"
   ]
  },
  {
   "cell_type": "code",
   "execution_count": 24,
   "metadata": {},
   "outputs": [
    {
     "data": {
      "text/plain": [
       "(110480, 14)"
      ]
     },
     "execution_count": 24,
     "metadata": {},
     "output_type": "execute_result"
    }
   ],
   "source": [
    "df = df[(df.Age >= 0) & (df.Age <= 95)]\n",
    "df.shape"
   ]
  },
  {
   "cell_type": "code",
   "execution_count": 25,
   "metadata": {},
   "outputs": [
    {
     "name": "stdout",
     "output_type": "stream",
     "text": [
      "<class 'pandas.core.frame.DataFrame'>\n",
      "Int64Index: 110480 entries, 0 to 110526\n",
      "Data columns (total 14 columns):\n",
      "PatientId         110480 non-null float64\n",
      "AppointmentID     110480 non-null int64\n",
      "Gender            110480 non-null object\n",
      "ScheduledDay      110480 non-null object\n",
      "AppointmentDay    110480 non-null object\n",
      "Age               110480 non-null int64\n",
      "Neighborhood      110480 non-null object\n",
      "Scholarship       110480 non-null int64\n",
      "Hypertension      110480 non-null int64\n",
      "Diabetes          110480 non-null int64\n",
      "Alcoholism        110480 non-null int64\n",
      "Handicap          110480 non-null int64\n",
      "SMS_received      110480 non-null int64\n",
      "No_show           110480 non-null object\n",
      "dtypes: float64(1), int64(8), object(5)\n",
      "memory usage: 12.6+ MB\n"
     ]
    }
   ],
   "source": [
    "df.info()"
   ]
  },
  {
   "cell_type": "markdown",
   "metadata": {},
   "source": [
    "# Exploration of data"
   ]
  },
  {
   "cell_type": "markdown",
   "metadata": {},
   "source": [
    "Data depicts that there were more female patients"
   ]
  },
  {
   "cell_type": "code",
   "execution_count": 26,
   "metadata": {
    "scrolled": true
   },
   "outputs": [
    {
     "data": {
      "text/plain": [
       "0         F\n",
       "1         M\n",
       "2         F\n",
       "3         F\n",
       "4         F\n",
       "5         F\n",
       "6         F\n",
       "7         F\n",
       "8         F\n",
       "9         F\n",
       "10        F\n",
       "11        M\n",
       "12        F\n",
       "13        M\n",
       "14        F\n",
       "15        F\n",
       "16        M\n",
       "17        F\n",
       "18        F\n",
       "19        F\n",
       "20        F\n",
       "21        F\n",
       "22        M\n",
       "23        F\n",
       "24        F\n",
       "25        M\n",
       "26        F\n",
       "27        F\n",
       "28        M\n",
       "29        F\n",
       "         ..\n",
       "110497    M\n",
       "110498    F\n",
       "110499    F\n",
       "110500    F\n",
       "110501    M\n",
       "110502    F\n",
       "110503    F\n",
       "110504    F\n",
       "110505    F\n",
       "110506    M\n",
       "110507    F\n",
       "110508    F\n",
       "110509    M\n",
       "110510    F\n",
       "110511    F\n",
       "110512    F\n",
       "110513    M\n",
       "110514    F\n",
       "110515    M\n",
       "110516    F\n",
       "110517    F\n",
       "110518    F\n",
       "110519    F\n",
       "110520    F\n",
       "110521    F\n",
       "110522    F\n",
       "110523    F\n",
       "110524    F\n",
       "110525    F\n",
       "110526    F\n",
       "Name: Gender, Length: 110480, dtype: object"
      ]
     },
     "execution_count": 26,
     "metadata": {},
     "output_type": "execute_result"
    }
   ],
   "source": [
    "##how many female vs male  \n",
    "df['Gender']  "
   ]
  },
  {
   "cell_type": "code",
   "execution_count": 27,
   "metadata": {},
   "outputs": [
    {
     "name": "stdout",
     "output_type": "stream",
     "text": [
      "F    71802\n",
      "M    38678\n",
      "Name: Gender, dtype: int64\n"
     ]
    }
   ],
   "source": [
    "##Obtained the total of female vs male patients\n",
    "\n",
    "gender = df[\"Gender\"].value_counts()\n",
    "print(gender)\n",
    "\n"
   ]
  },
  {
   "cell_type": "markdown",
   "metadata": {},
   "source": [
    "## Chart - Female vs Male Patients"
   ]
  },
  {
   "cell_type": "code",
   "execution_count": 28,
   "metadata": {
    "scrolled": true
   },
   "outputs": [
    {
     "data": {
      "text/html": [
       "<div>\n",
       "<style scoped>\n",
       "    .dataframe tbody tr th:only-of-type {\n",
       "        vertical-align: middle;\n",
       "    }\n",
       "\n",
       "    .dataframe tbody tr th {\n",
       "        vertical-align: top;\n",
       "    }\n",
       "\n",
       "    .dataframe thead th {\n",
       "        text-align: right;\n",
       "    }\n",
       "</style>\n",
       "<table border=\"1\" class=\"dataframe\">\n",
       "  <thead>\n",
       "    <tr style=\"text-align: right;\">\n",
       "      <th></th>\n",
       "      <th>PatientId</th>\n",
       "    </tr>\n",
       "    <tr>\n",
       "      <th>Gender</th>\n",
       "      <th></th>\n",
       "    </tr>\n",
       "  </thead>\n",
       "  <tbody>\n",
       "    <tr>\n",
       "      <th>F</th>\n",
       "      <td>71802</td>\n",
       "    </tr>\n",
       "    <tr>\n",
       "      <th>M</th>\n",
       "      <td>38678</td>\n",
       "    </tr>\n",
       "  </tbody>\n",
       "</table>\n",
       "</div>"
      ],
      "text/plain": [
       "        PatientId\n",
       "Gender           \n",
       "F           71802\n",
       "M           38678"
      ]
     },
     "execution_count": 28,
     "metadata": {},
     "output_type": "execute_result"
    },
    {
     "data": {
      "image/png": "[encoded data removed]",
      "text/plain": [
       "<Figure size 432x288 with 1 Axes>"
      ]
     },
     "metadata": {
      "needs_background": "light"
     },
     "output_type": "display_data"
    }
   ],
   "source": [
    "df.groupby(['Gender'])['PatientId'].count().plot(kind='bar').set_ylabel('Count')\n",
    "df.groupby(['Gender'])[['PatientId']].count()"
   ]
  },
  {
   "cell_type": "markdown",
   "metadata": {},
   "source": [
    "### Patients who missed their appointments"
   ]
  },
  {
   "cell_type": "code",
   "execution_count": 29,
   "metadata": {
    "scrolled": false
   },
   "outputs": [
    {
     "name": "stdout",
     "output_type": "stream",
     "text": [
      "No     88168\n",
      "Yes    22312\n",
      "Name: No_show, dtype: int64\n",
      "Percent who miss their scheduled appointments: 20.195510499637944\n"
     ]
    }
   ],
   "source": [
    "##the count and percent of who missed their scheduled appointments\n",
    "\n",
    "no_show = df[\"No_show\"].value_counts()\n",
    "print(no_show)\n",
    "\n",
    "percent_no_show = no_show[1]/ no_show.sum() * 100\n",
    "print(\"Percent who miss their scheduled appointments:\",percent_no_show )"
   ]
  },
  {
   "cell_type": "code",
   "execution_count": 30,
   "metadata": {},
   "outputs": [
    {
     "data": {
      "image/png": "[encoded data removed]",
      "text/plain": [
       "<Figure size 432x288 with 1 Axes>"
      ]
     },
     "metadata": {},
     "output_type": "display_data"
    }
   ],
   "source": [
    "labels = 'No Show', 'Show'\n",
    "sizes = [22312, 88168]\n",
    "colors =['red', 'green']\n",
    "\n",
    "plt.pie(sizes, labels=labels, colors=colors,\n",
    "       autopct='%1.1f%%', shadow=True, startangle=140)\n",
    "plt.axis('equal')\n",
    "plt.show()"
   ]
  },
  {
   "cell_type": "markdown",
   "metadata": {},
   "source": [
    "### Patients who missed their appointments - Female vs. Male"
   ]
  },
  {
   "cell_type": "markdown",
   "metadata": {},
   "source": [
    "Predict the patients that were no show based on female vs. male"
   ]
  },
  {
   "cell_type": "code",
   "execution_count": 31,
   "metadata": {},
   "outputs": [
    {
     "data": {
      "text/html": [
       "<div>\n",
       "<style scoped>\n",
       "    .dataframe tbody tr th:only-of-type {\n",
       "        vertical-align: middle;\n",
       "    }\n",
       "\n",
       "    .dataframe tbody tr th {\n",
       "        vertical-align: top;\n",
       "    }\n",
       "\n",
       "    .dataframe thead th {\n",
       "        text-align: right;\n",
       "    }\n",
       "</style>\n",
       "<table border=\"1\" class=\"dataframe\">\n",
       "  <thead>\n",
       "    <tr style=\"text-align: right;\">\n",
       "      <th></th>\n",
       "      <th></th>\n",
       "      <th>No_show</th>\n",
       "    </tr>\n",
       "    <tr>\n",
       "      <th>Gender</th>\n",
       "      <th>No_show</th>\n",
       "      <th></th>\n",
       "    </tr>\n",
       "  </thead>\n",
       "  <tbody>\n",
       "    <tr>\n",
       "      <th rowspan=\"2\" valign=\"top\">F</th>\n",
       "      <th>No</th>\n",
       "      <td>57214</td>\n",
       "    </tr>\n",
       "    <tr>\n",
       "      <th>Yes</th>\n",
       "      <td>14588</td>\n",
       "    </tr>\n",
       "    <tr>\n",
       "      <th rowspan=\"2\" valign=\"top\">M</th>\n",
       "      <th>No</th>\n",
       "      <td>30954</td>\n",
       "    </tr>\n",
       "    <tr>\n",
       "      <th>Yes</th>\n",
       "      <td>7724</td>\n",
       "    </tr>\n",
       "  </tbody>\n",
       "</table>\n",
       "</div>"
      ],
      "text/plain": [
       "                No_show\n",
       "Gender No_show         \n",
       "F      No         57214\n",
       "       Yes        14588\n",
       "M      No         30954\n",
       "       Yes         7724"
      ]
     },
     "execution_count": 31,
     "metadata": {},
     "output_type": "execute_result"
    },
    {
     "data": {
      "image/png": "[encoded data removed]",
      "text/plain": [
       "<Figure size 432x288 with 1 Axes>"
      ]
     },
     "metadata": {
      "needs_background": "light"
     },
     "output_type": "display_data"
    }
   ],
   "source": [
    "df.groupby(['Gender','No_show'])['No_show'].count().plot(kind='bar').set_ylabel('Count')\n",
    "df.groupby(['Gender','No_show'])[['No_show']].count()"
   ]
  },
  {
   "cell_type": "markdown",
   "metadata": {},
   "source": [
    "### Comparing Hypertension and No_show between female and male"
   ]
  },
  {
   "cell_type": "code",
   "execution_count": 32,
   "metadata": {},
   "outputs": [
    {
     "data": {
      "text/html": [
       "<div>\n",
       "<style scoped>\n",
       "    .dataframe tbody tr th:only-of-type {\n",
       "        vertical-align: middle;\n",
       "    }\n",
       "\n",
       "    .dataframe tbody tr th {\n",
       "        vertical-align: top;\n",
       "    }\n",
       "\n",
       "    .dataframe thead th {\n",
       "        text-align: right;\n",
       "    }\n",
       "</style>\n",
       "<table border=\"1\" class=\"dataframe\">\n",
       "  <thead>\n",
       "    <tr style=\"text-align: right;\">\n",
       "      <th></th>\n",
       "      <th></th>\n",
       "      <th>No_show</th>\n",
       "    </tr>\n",
       "    <tr>\n",
       "      <th>Gender</th>\n",
       "      <th>Hypertension</th>\n",
       "      <th></th>\n",
       "    </tr>\n",
       "  </thead>\n",
       "  <tbody>\n",
       "    <tr>\n",
       "      <th rowspan=\"2\" valign=\"top\">F</th>\n",
       "      <th>0</th>\n",
       "      <td>0.788730</td>\n",
       "    </tr>\n",
       "    <tr>\n",
       "      <th>1</th>\n",
       "      <td>0.826706</td>\n",
       "    </tr>\n",
       "    <tr>\n",
       "      <th rowspan=\"2\" valign=\"top\">M</th>\n",
       "      <th>0</th>\n",
       "      <td>0.794848</td>\n",
       "    </tr>\n",
       "    <tr>\n",
       "      <th>1</th>\n",
       "      <td>0.827501</td>\n",
       "    </tr>\n",
       "  </tbody>\n",
       "</table>\n",
       "</div>"
      ],
      "text/plain": [
       "                      No_show\n",
       "Gender Hypertension          \n",
       "F      0             0.788730\n",
       "       1             0.826706\n",
       "M      0             0.794848\n",
       "       1             0.827501"
      ]
     },
     "execution_count": 32,
     "metadata": {},
     "output_type": "execute_result"
    },
    {
     "data": {
      "image/png": "[encoded data removed]",
      "text/plain": [
       "<Figure size 432x288 with 1 Axes>"
      ]
     },
     "metadata": {
      "needs_background": "light"
     },
     "output_type": "display_data"
    }
   ],
   "source": [
    "df['No_show']=pd.get_dummies(df['No_show'])\n",
    "df.groupby(['Gender','Hypertension'])[['No_show']].mean().unstack().plot(kind='bar').set_ylabel('Mean')\n",
    "df.groupby(['Gender','Hypertension'])[['No_show']].mean()"
   ]
  },
  {
   "cell_type": "markdown",
   "metadata": {},
   "source": [
    "### Neighborhood with most appointments"
   ]
  },
  {
   "cell_type": "code",
   "execution_count": 33,
   "metadata": {},
   "outputs": [
    {
     "name": "stdout",
     "output_type": "stream",
     "text": [
      "JARDIM CAMBURI                 7714\n",
      "MARIA ORTIZ                    5804\n",
      "RESISTÊNCIA                    4431\n",
      "JARDIM DA PENHA                3874\n",
      "ITARARÉ                        3514\n",
      "CENTRO                         3333\n",
      "TABUAZEIRO                     3130\n",
      "SANTA MARTHA                   3129\n",
      "JESUS DE NAZARETH              2853\n",
      "BONFIM                         2769\n",
      "SANTO ANTÔNIO                  2743\n",
      "SANTO ANDRÉ                    2570\n",
      "CARATOÍRA                      2564\n",
      "JABOUR                         2508\n",
      "SÃO PEDRO                      2447\n",
      "ILHA DO PRÍNCIPE               2266\n",
      "NOVA PALESTINA                 2264\n",
      "ANDORINHAS                     2258\n",
      "DA PENHA                       2217\n",
      "ROMÃO                          2214\n",
      "GURIGICA                       2018\n",
      "SÃO JOSÉ                       1976\n",
      "BELA VISTA                     1907\n",
      "MARUÍPE                        1899\n",
      "FORTE SÃO JOÃO                 1889\n",
      "ILHA DE SANTA MARIA            1885\n",
      "SÃO CRISTÓVÃO                  1836\n",
      "REDENÇÃO                       1553\n",
      "SÃO BENEDITO                   1439\n",
      "JOANA D´ARC                    1427\n",
      "                               ... \n",
      "SANTOS REIS                     547\n",
      "ESTRELINHA                      538\n",
      "SANTA CLARA                     506\n",
      "SOLON BORGES                    469\n",
      "PIEDADE                         452\n",
      "SANTA CECÍLIA                   448\n",
      "SANTA LÚCIA                     438\n",
      "SANTA LUÍZA                     428\n",
      "BARRO VERMELHO                  423\n",
      "DO MOSCOSO                      413\n",
      "MÁRIO CYPRESTE                  371\n",
      "BOA VISTA                       312\n",
      "COMDUSA                         310\n",
      "DE LOURDES                      305\n",
      "ARIOVALDO FAVALESSA             281\n",
      "ANTÔNIO HONÓRIO                 270\n",
      "FRADINHOS                       258\n",
      "ENSEADA DO SUÁ                  235\n",
      "SANTA HELENA                    178\n",
      "HORTO                           175\n",
      "UNIVERSITÁRIO                   152\n",
      "SEGURANÇA DO LAR                145\n",
      "NAZARETH                        135\n",
      "MORADA DE CAMBURI                96\n",
      "PONTAL DE CAMBURI                69\n",
      "ILHA DO BOI                      35\n",
      "ILHA DO FRADE                    10\n",
      "AEROPORTO                         8\n",
      "ILHAS OCEÂNICAS DE TRINDADE       2\n",
      "PARQUE INDUSTRIAL                 1\n",
      "Name: Neighborhood, Length: 81, dtype: int64\n"
     ]
    }
   ],
   "source": [
    "##neighborhood with the most appts from largest to smallest\n",
    "neighborhood = df[\"Neighborhood\"].value_counts()\n",
    "print(neighborhood)"
   ]
  },
  {
   "cell_type": "markdown",
   "metadata": {},
   "source": [
    "# My Conclusions"
   ]
  },
  {
   "cell_type": "markdown",
   "metadata": {},
   "source": [
    "1. Obtained average/mean by Age, Hypertensions, Diabetes, Alcoholism and Handicap. Data depicts that hypertension is \n",
    "the most common diagnoses.\n",
    "2. Data depicts more females made appointments.\n",
    "3. Data depicts that 20% of patients were No Show.\n",
    "4. Compared female and male appointments and female no shows and male no shows\n",
    "5. Jardin Camburi had the most patient appointments and Parque Industrial had the least\n"
   ]
  },
  {
   "cell_type": "code",
   "execution_count": null,
   "metadata": {},
   "outputs": [],
   "source": []
  }
 ],
 "metadata": {
  "kernelspec": {
   "display_name": "Python 3",
   "language": "python",
   "name": "python3"
  },
  "language_info": {
   "codemirror_mode": {
    "name": "ipython",
    "version": 3
   },
   "file_extension": ".py",
   "mimetype": "text/x-python",
   "name": "python",
   "nbconvert_exporter": "python",
   "pygments_lexer": "ipython3",
   "version": "3.7.1"
  }
 },
 "nbformat": 4,
 "nbformat_minor": 2
}
